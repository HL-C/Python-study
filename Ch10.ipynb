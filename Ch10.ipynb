{
 "cells": [
  {
   "cell_type": "markdown",
   "metadata": {},
   "source": [
    "# Chapter 10\n",
    "## 오류를 어떻게 다뤄야 할까"
   ]
  },
  {
   "cell_type": "markdown",
   "metadata": {},
   "source": [
    "### 10.3까지 요약:\n",
    "\n",
    "```python\n",
    "try:\n",
    "    # 코드블록\n",
    "except 예외형식1 as err:\n",
    "    # 예외형식1의 오류 발생시 코드블록 실행\n",
    "except 예외형식2 as err:\n",
    "    # 예외형식2의 오류 발생시 이 코드 실행\n",
    "except:\n",
    "    # 나머지 예외 발생시\n",
    "else:\n",
    "    # 정상처리 되었을 경우 이 코드 실행\n",
    "finally:\n",
    "    # 정상처리 여부와 상관없이 무조건 실행되는 블록\n",
    "```"
   ]
  },
  {
   "cell_type": "markdown",
   "metadata": {},
   "source": [
    "try_except_else_finally.py"
   ]
  },
  {
   "cell_type": "code",
   "execution_count": 6,
   "metadata": {},
   "outputs": [
    {
     "name": "stdout",
     "output_type": "stream",
     "text": [
      "첨자를 입력하세요:\n",
      "ㅇ\n",
      "예외가 발생했습니다 (invalid literal for int() with base 10: 'ㅇ')\n",
      "어떤 일이 있어도 마무리합니다\n"
     ]
    }
   ],
   "source": [
    "my_list = [1,2,3]\n",
    "\n",
    "try:\n",
    "    print (\"첨자를 입력하세요:\")\n",
    "    index = int(input())\n",
    "    print(\"my_list[{0}]: {1}\".format(index, my_list[index]))\n",
    "except Exception as err:\n",
    "    print(\"예외가 발생했습니다 ({0})\".format(err))\n",
    "else:\n",
    "    print(\"리스트의 요소 출력에 성공했습니다\")\n",
    "finally:\n",
    "    print(\"어떤 일이 있어도 마무리합니다\")"
   ]
  },
  {
   "cell_type": "markdown",
   "metadata": {},
   "source": [
    "#### 참고:\n",
    "BaseException 의 Exception 클래스로부터 상속을 받는다. 직접 정의하는 예외 형식도 이 Exception 클래스로부터 상속받아 만든다. \n",
    " \n",
    "=> Exception 클래스에 대한 예외처리절이 다른 예외처리절보다 앞에 있으면 뒤에껀 실행되지 않음\n",
    "\n",
    "궁금점: except: 와 except Exception as err: 의 차이? err를 받아서 뿌려줄 수 있냐 없냐의 차이인가?"
   ]
  },
  {
   "cell_type": "markdown",
   "metadata": {},
   "source": [
    "## 10.4 raise"
   ]
  },
  {
   "cell_type": "code",
   "execution_count": 7,
   "metadata": {},
   "outputs": [
    {
     "ename": "Exception",
     "evalue": "예외를 일으킵니다",
     "output_type": "error",
     "traceback": [
      "\u001b[0;31m---------------------------------------------------------------------------\u001b[0m",
      "\u001b[0;31mException\u001b[0m                                 Traceback (most recent call last)",
      "\u001b[0;32m<ipython-input-7-afb6b177a21f>\u001b[0m in \u001b[0;36m<module>\u001b[0;34m\u001b[0m\n\u001b[0;32m----> 1\u001b[0;31m \u001b[0;32mraise\u001b[0m \u001b[0mException\u001b[0m \u001b[0;34m(\u001b[0m\u001b[0;34m\"예외를 일으킵니다\"\u001b[0m\u001b[0;34m)\u001b[0m\u001b[0;34m\u001b[0m\u001b[0;34m\u001b[0m\u001b[0m\n\u001b[0m",
      "\u001b[0;31mException\u001b[0m: 예외를 일으킵니다"
     ]
    }
   ],
   "source": [
    "raise Exception (\"예외를 일으킵니다\")"
   ]
  },
  {
   "cell_type": "code",
   "execution_count": 8,
   "metadata": {},
   "outputs": [
    {
     "name": "stdout",
     "output_type": "stream",
     "text": [
      "예외가 일어났습니다: 예외를 일으킵니다\n"
     ]
    }
   ],
   "source": [
    "try:\n",
    "    raise Exception (\"예외를 일으킵니다\")\n",
    "except Exception as err:\n",
    "    print(\"예외가 일어났습니다: {0}\".format(err))"
   ]
  },
  {
   "cell_type": "markdown",
   "metadata": {},
   "source": [
    "Raise를 통해 발생시킨 예외는 except 로 처리하지 않으면 계속 상위 코드로 나다. 아래 예제에서 함수안에서 처리되지 않은 예외는 함수 밖으로 다시 던져진다."
   ]
  },
  {
   "cell_type": "code",
   "execution_count": 1,
   "metadata": {},
   "outputs": [
    {
     "name": "stdout",
     "output_type": "stream",
     "text": [
      "1~10 사이의 수를 입력하세요:\n",
      "10\n",
      "입력한 수는 10입니다.\n"
     ]
    }
   ],
   "source": [
    "#raise_in_function.py\n",
    "def some_function():\n",
    "    print(\"1~10 사이의 수를 입력하세요:\")\n",
    "    num = int(input())\n",
    "    if num < 1 or num > 10:\n",
    "        raise Exception(\"유효하지 않은 숫자입니다.: {0}\".format(num))\n",
    "    else:\n",
    "        print(\"입력한 수는 {0}입니다.\".format(num))\n",
    "\n",
    "try:\n",
    "    some_function()\n",
    "except Exception as err:\n",
    "    print(\"예외가 발생했습니다. {0}\".format(err))"
   ]
  },
  {
   "cell_type": "markdown",
   "metadata": {},
   "source": [
    "except에서 한번 처리한 예외를 다시 상위로 던지려면 raise만 쓰면 된다"
   ]
  },
  {
   "cell_type": "code",
   "execution_count": 16,
   "metadata": {},
   "outputs": [
    {
     "name": "stdout",
     "output_type": "stream",
     "text": [
      "1~10 사이의 수를 입력하세요:\n",
      "11\n",
      "1) 예외가 발생했습니다. 유효하지 않은 숫자입니다.: 11\n",
      "2) 예외가 발생했습니다. 유효하지 않은 숫자입니다.: 11\n"
     ]
    }
   ],
   "source": [
    "#raise_again.py\n",
    "def some_function():\n",
    "    print(\"1~10 사이의 수를 입력하세요:\")\n",
    "    num = int(input())\n",
    "    if num < 1 or num > 10:\n",
    "        raise Exception(\"유효하지 않은 숫자입니다.: {0}\".format(num))\n",
    "    else:\n",
    "        print(\"입력한 수는 {0}입니다.\".format(num))\n",
    "\n",
    "def some_function_caller():\n",
    "    try:\n",
    "        some_function()\n",
    "    except Exception as err:\n",
    "        print(\"1) 예외가 발생했습니다. {0}\".format(err))\n",
    "        raise\n",
    "\n",
    "try:\n",
    "    some_function_caller()\n",
    "except Exception as err:\n",
    "    print(\"2) 예외가 발생했습니다. {0}\".format(err))"
   ]
  },
  {
   "cell_type": "markdown",
   "metadata": {},
   "source": [
    "## 10.5 MyException\n",
    "Exception 클래스를 상속하는 클래스를 정의하면 된다"
   ]
  },
  {
   "cell_type": "code",
   "execution_count": 9,
   "metadata": {},
   "outputs": [],
   "source": [
    "class MyException(Exception):\n",
    "    def __init__(self):\n",
    "        super().__init__(\"MyException이 발생했습니다.\")"
   ]
  },
  {
   "cell_type": "markdown",
   "metadata": {},
   "source": [
    "## 연습문제"
   ]
  },
  {
   "cell_type": "code",
   "execution_count": 15,
   "metadata": {},
   "outputs": [
    {
     "name": "stdout",
     "output_type": "stream",
     "text": [
      "11\n",
      "IndexError: list index out of range\n"
     ]
    }
   ],
   "source": [
    "my_list = [1,2,3,4,5]\n",
    "\n",
    "def print_element(arg, index):\n",
    "    print(arg[index])\n",
    "\n",
    "try:\n",
    "    index = int(input())\n",
    "    print_element(my_list,index)\n",
    "except IndexError as err:\n",
    "    print (\"IndexError: {0}\".format(err))\n",
    "except Exception as err:\n",
    "    print (\"기타 에러: {0}\".format(err))"
   ]
  },
  {
   "cell_type": "code",
   "execution_count": null,
   "metadata": {},
   "outputs": [],
   "source": []
  }
 ],
 "metadata": {
  "kernelspec": {
   "display_name": "Python 3",
   "language": "python",
   "name": "python3"
  },
  "language_info": {
   "codemirror_mode": {
    "name": "ipython",
    "version": 3
   },
   "file_extension": ".py",
   "mimetype": "text/x-python",
   "name": "python",
   "nbconvert_exporter": "python",
   "pygments_lexer": "ipython3",
   "version": "3.6.7"
  }
 },
 "nbformat": 4,
 "nbformat_minor": 2
}
